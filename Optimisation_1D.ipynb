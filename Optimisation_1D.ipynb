{
  "nbformat": 4,
  "nbformat_minor": 0,
  "metadata": {
    "colab": {
      "provenance": [],
      "include_colab_link": true
    },
    "kernelspec": {
      "name": "python3",
      "display_name": "Python 3"
    },
    "language_info": {
      "name": "python"
    }
  },
  "cells": [
    {
      "cell_type": "markdown",
      "metadata": {
        "id": "view-in-github",
        "colab_type": "text"
      },
      "source": [
        "<a href=\"https://colab.research.google.com/github/XavierCachan/moduleIA_S4/blob/main/Optimisation_1D.ipynb\" target=\"_parent\"><img src=\"https://colab.research.google.com/assets/colab-badge.svg\" alt=\"Open In Colab\"/></a>"
      ]
    },
    {
      "cell_type": "markdown",
      "source": [
        "# **TP IA Partie 1 - Quelques notions d'optimisation - IUT de Cachan 2024**\n",
        "XM - Février 2024 - Version : 0.8\n",
        "\n",
        "-----"
      ],
      "metadata": {
        "id": "xYl_UBCdxmOC"
      }
    },
    {
      "cell_type": "markdown",
      "source": [
        "Note : Pour avancer dans ce notebook, il suffit d'exécuter (petite flèche), ou compléter puis exécuter, les différents blocs de code placés ci-dessous."
      ],
      "metadata": {
        "id": "32LUF88XLElJ"
      }
    },
    {
      "cell_type": "markdown",
      "source": [
        "Cette première partie a pour objectif de faire comprendre sur un exemple très simple les principes d'une optimisation déterministe par descente de gradient."
      ],
      "metadata": {
        "id": "-NGcdaHMQh2D"
      }
    },
    {
      "cell_type": "markdown",
      "source": [
        "On considère un récipient ayant la forme d'une parabole, et on lâche une bille sur l'un des côtés du récipient. On cherche à calculer quelle sera la position finale de la bille (ce problème peut bien sûr se résoudre par un calcul analytique, mais si la forme du récipient était plus complexe, le challenge serait plus difficile)."
      ],
      "metadata": {
        "id": "LM4wAcC3yx4Z"
      }
    },
    {
      "cell_type": "markdown",
      "source": [
        "**1. Import des modules nécessaires pour les calculs et l'affichage**"
      ],
      "metadata": {
        "id": "UxOEtnP_zxMB"
      }
    },
    {
      "cell_type": "code",
      "execution_count": null,
      "metadata": {
        "id": "1VwTK_rnwWGs"
      },
      "outputs": [],
      "source": [
        "import numpy as np                # Module de fonctions mathématiques\n",
        "import math                       # Module de fonctions mathématiques\n",
        "import matplotlib.pyplot as plt   # Module de fonctions pour affichage"
      ]
    },
    {
      "cell_type": "markdown",
      "source": [
        "**2. Précisions sur le problème posé**"
      ],
      "metadata": {
        "id": "SxHma1Md1gO0"
      }
    },
    {
      "cell_type": "markdown",
      "source": [
        "On considère le récipient suivant :"
      ],
      "metadata": {
        "id": "Cvme5N1PV3Ta"
      }
    },
    {
      "cell_type": "code",
      "source": [
        "N = 40                            # Nombre de points considérés pour le dessin\n",
        "Xv = np.linspace(0,4,num=N)       # Fabrication d'un vecteur de N points régulièrement espacés entre 0 et 4 (0, 0.1, 0.2, ... 3.9)\n",
        "\n",
        "# Définition de la fonction parabolique du récipient\n",
        "Yv = (Xv-2)**2 + 1\n",
        "\n",
        "# Affichage du récipient et de la position initiale de la bille\n",
        "X_init = 0.2      # Position X initiale de la bille\n",
        "fig,ax = plt.subplots(1,figsize=(8,5))    # Format de l'affichage à réaliser\n",
        "ax.plot (Xv, Yv, linestyle=\"-\", linewidth=1, label=\"Récipient\")\n",
        "ax.plot ((0,4), (0,0), linestyle=\"-\", color=\"black\", label=\"Sol\")\n",
        "ax.plot (X_init, (X_init-2)**2 + 1, marker=\"x\", linestyle=\"none\", color=\"orange\", label=\"Position initiale de la bille\")\n",
        "ax.plot ((X_init,X_init), (0,(X_init-2)**2 + 1), linestyle=\"-\", color=\"orange\", label=\"Distance par rapport au sol\")\n",
        "ax.set_title(\"Forme du récipient\")\n",
        "ax.set_xlabel(\"Position X\")\n",
        "ax.set_ylabel(\"Position Y de la bille\")\n",
        "ax.legend()       # Ajout de la legende à l'affichage\n",
        "plt.show()        # Demande d'affichage\n"
      ],
      "metadata": {
        "id": "nZMA_gKbyP7E"
      },
      "execution_count": null,
      "outputs": []
    },
    {
      "cell_type": "markdown",
      "source": [
        "Comment obtenir la position finale de la bille ? Il faut chercher à minimiser la distance entre sa position verticale (Y) et le sol (en physique en toute rigueur on dirait que l'on veut minimiser son énergie potentielle) qui est dessinée en orange sur le graphique."
      ],
      "metadata": {
        "id": "BdYfJg_1K1Ld"
      }
    },
    {
      "cell_type": "markdown",
      "source": [
        "**3. Recherche du minimum par optimisation**"
      ],
      "metadata": {
        "id": "0XByvgWP5_Le"
      }
    },
    {
      "cell_type": "markdown",
      "source": [
        "La variable inconnue est donc X, et on commence par définir la fonction coût qui est ici directement la distance (Y - 0) pour un X donné."
      ],
      "metadata": {
        "id": "8xJMlpsALV-B"
      }
    },
    {
      "cell_type": "code",
      "source": [
        "# Définition de la fonction coût = distance par rapport à l'axe horizontal\n",
        "def cout(X): # argument X = position de la bille\n",
        "  return (X-2)**2 + 1"
      ],
      "metadata": {
        "id": "N6pb29s56od1"
      },
      "execution_count": null,
      "outputs": []
    },
    {
      "cell_type": "markdown",
      "source": [
        "On définit ensuite la fonction retournant la dérivée de cette fonction coût par rapport à la variable X, dérivée que l'on va chercher à annuler pour trouver la distance minimale."
      ],
      "metadata": {
        "id": "g5BOz4Y9LqeC"
      }
    },
    {
      "cell_type": "code",
      "source": [
        "# Définition de la fonction pente (dérivée) du coût : si l'on trouve la valeur qui l'annule, alors on sera au point de coût minimum\n",
        "def dcout(X): # argument X = position de la bille\n",
        "  return 2*(X-2)"
      ],
      "metadata": {
        "id": "8Ibqk1XcLrGi"
      },
      "execution_count": null,
      "outputs": []
    },
    {
      "cell_type": "markdown",
      "source": [
        "**Départ de l'optimisation** : on commence par définir les paramètres :"
      ],
      "metadata": {
        "id": "e9jyTteKMG0J"
      }
    },
    {
      "cell_type": "code",
      "source": [
        "taux_evolution = 0.1    # \"Vitesse\" d'avancée de l'algorithme. Par defaut 0.1\n",
        "maxIter = 10000         # Nombre max d'itérations. Par defaut 10000\n",
        "eps = 0.0001            # On cherche à ce que la dérivée devienne plus petite que eps (=> valeur min du coût). Par defaut 0.0001\n",
        "iter = 0                # Numéro itération en cours\n",
        "\n",
        "# Initialisation des paramètres de l'optimisation\n",
        "X_init = 0.2            # Position X initiale de la bille. Par defaut 0.2\n",
        "Y_init = cout(X_init)   # Distance initiale\n",
        "\n",
        "grad = dcout(X_init)    # Valeur initiale de la pente\n",
        "\n",
        "liste_iter = []         # Listes pour affichage de la convergence de l'erreur\n",
        "liste_erreur = []\n",
        "liste_dist = []\n",
        "liste_X = []"
      ],
      "metadata": {
        "id": "q1JyV82j6Hc5"
      },
      "execution_count": null,
      "outputs": []
    },
    {
      "cell_type": "markdown",
      "source": [
        "Regardons ce qu'il se passe à la première itération :"
      ],
      "metadata": {
        "id": "RWt_K4K4ITxL"
      }
    },
    {
      "cell_type": "code",
      "source": [
        "gradD = dcout(X_init)                      # Calcul de la pente\n",
        "grad = math.sqrt(gradD**2)                 # Valeur absolue\n",
        "X = X_init - taux_evolution * gradD        # On bouge un peu X dans la direction opposée de la dérivée (ici la pente est négative, et on veut augmenter X)\n",
        "iter += 1\n",
        "\n",
        "# Sauvegarde pour affichage des courbes de pente et distance vs itérations\n",
        "liste_iter.append(iter)\n",
        "liste_erreur.append(grad)\n",
        "liste_dist.append(cout(X))\n",
        "liste_X.append(X)\n",
        "\n",
        "# Analyse de la position obtenue pour notre optimisation à l'itération 1\n",
        "Y_mod = (X-2)**2 + 1\n",
        "\n",
        "# Affichage des résultats du modèle\n",
        "fig,ax = plt.subplots(1,figsize=(8,5))\n",
        "ax.plot (Xv, Yv, linestyle=\"-\", linewidth=1, label=\"Récipient\")\n",
        "ax.plot ((0,4), (0,0), linestyle=\"-\", color=\"black\", label=\"Sol\")\n",
        "ax.plot (X_init, (X_init-2)**2 + 1, marker=\"x\", linestyle=\"none\", color=\"orange\", label=\"Position initiale de la bille\")\n",
        "ax.plot ((X_init,X_init), (0,(X_init-2)**2 + 1), linestyle=\"-\", color=\"orange\", label=\"Distance initiale\")\n",
        "ax.plot (X, (X-2)**2 + 1, marker=\"x\", linestyle=\"none\", color=\"green\", label=\"Position de la bille itération 1\")\n",
        "ax.plot ((X,X), (0,(X-2)**2 + 1), linestyle=\"-\", color=\"green\", label=\"Distance itération 1\")\n",
        "ax.set_title(\"Forme du récipient\")\n",
        "ax.set_xlabel(\"Position X\")\n",
        "ax.set_ylabel(\"Position Y de la bille\")\n",
        "ax.legend()\n",
        "plt.show()\n",
        "\n",
        "print (\"La nouvelle valeur de X est \" + str(X) )"
      ],
      "metadata": {
        "id": "bpsaFaQeIZ6P"
      },
      "execution_count": null,
      "outputs": []
    },
    {
      "cell_type": "markdown",
      "source": [
        "Ca va dans le bon sens, mais ce n'est pas encore parfait... Et si l'on refaisait cela en boucle tant que la dérivée (la pente) de la fonction coût n'est pas assez petite ?"
      ],
      "metadata": {
        "id": "RatjuuaPJAQG"
      }
    },
    {
      "cell_type": "code",
      "source": [
        "# Boucle d'optimisation : on avance tant que la pente > eps OU nb itérations max atteint\n",
        "while abs(grad)>eps:\n",
        "  gradD = dcout(X)              # Calcul de la pente\n",
        "  grad = math.sqrt(gradD**2)    # Valeur absolue\n",
        "  X = X - taux_evolution * gradD        # On bouge un peu X dans la direction opposée de la dérivée\n",
        "  iter += 1\n",
        "  if iter > maxIter:\n",
        "    grad = 0\n",
        "  # Sauvegarde pour affichage des courbes de pente et distance vs itérations\n",
        "  liste_iter.append(iter)\n",
        "  liste_erreur.append(grad)\n",
        "  liste_dist.append(cout(X))\n",
        "  liste_X.append(X)\n",
        "\n",
        "#Affichage de l'évolution du gradient\n",
        "fig,ax = plt.subplots(1,figsize=(8,5))\n",
        "ax.plot (liste_iter,liste_erreur, linestyle=\"-\", linewidth=1, label=\"Gradient\")\n",
        "ax.set_xlabel(\"Itérations\")\n",
        "ax.set_ylabel(\"Valeur gradient du coût\")\n",
        "ax.set_xscale('log')\n",
        "ax.set_yscale('log')\n",
        "ax.legend()\n",
        "plt.show()\n",
        "\n",
        "#Affichage de l'évolution de la distance\n",
        "fig,ax = plt.subplots(1,figsize=(8,5))\n",
        "ax.plot (liste_iter,liste_dist, linestyle=\"-\", linewidth=1, label=\"Distance\")\n",
        "ax.set_xlabel(\"Itérations\")\n",
        "ax.set_ylabel(\"Valeur du coût (=distance)\")\n",
        "ax.set_xscale('log')\n",
        "ax.legend()\n",
        "plt.show()\n",
        "\n",
        "print (\"Le coût final obtenu est \" + str(cout(X)))"
      ],
      "metadata": {
        "id": "d-_xtXiw0oTw"
      },
      "execution_count": null,
      "outputs": []
    },
    {
      "cell_type": "markdown",
      "source": [
        "La courbe de pente du coût semble converger vers 0, c'est bon signe ! Que donne le modèle obtenu en fin d'optimisation ?"
      ],
      "metadata": {
        "id": "u1-wEJX8J0h1"
      }
    },
    {
      "cell_type": "code",
      "source": [
        "# Analyse de la position obtenue pour notre optimisation en fin d'optimisation\n",
        "Y_mod = (X-2)**2 + 1\n",
        "\n",
        "# Affichage des résultats du modèle\n",
        "fig,ax = plt.subplots(1,figsize=(8,5))\n",
        "ax.plot (Xv, Yv, linestyle=\"-\", linewidth=1, label=\"Récipient\")\n",
        "ax.plot ((0,4), (0,0), linestyle=\"-\", color=\"black\", label=\"Sol\")\n",
        "ax.plot (X_init, (X_init-2)**2 + 1, marker=\"x\", linestyle=\"none\", color=\"orange\", label=\"Position initiale de la bille\")\n",
        "ax.plot ((X_init,X_init), (0,(X_init-2)**2 + 1), linestyle=\"-\", color=\"orange\", label=\"Distance initiale\")\n",
        "for i in range(0,N):      # Affichage des positions pour chaque itération\n",
        "  ax.plot (liste_X[i], liste_dist[i], marker=\"x\", linestyle=\"none\", color=\"blue\")\n",
        "ax.plot (X, (X-2)**2 + 1, marker=\"x\", linestyle=\"none\", color=\"green\", label=\"Position finale de la bille\")\n",
        "ax.plot ((X,X), (0,(X-2)**2 + 1), linestyle=\"-\", color=\"green\", label=\"Distance finale\")\n",
        "ax.set_title(\"Forme du récipient\")\n",
        "ax.set_xlabel(\"Position X\")\n",
        "ax.set_ylabel(\"Position Y de la bille\")\n",
        "ax.legend()\n",
        "plt.show()\n",
        "\n",
        "print (\"Théoriquement on devrait obtenir : X_th = \" + str(2) + \" et Distance_th = \" + str(1))\n",
        "print (\"Le modèle donne en \" + str(iter) + \" itérations : X_mod = \" + str(X) + \" et Distance_mod = \" + str(cout(X)))\n"
      ],
      "metadata": {
        "id": "KHtDbpbG_5sf"
      },
      "execution_count": null,
      "outputs": []
    },
    {
      "cell_type": "markdown",
      "source": [
        "Ca parait magique, non ? Et ça fonctionne bien entendu pour des choses un peu plus complexes, comme nous allons le voir par la suite."
      ],
      "metadata": {
        "id": "PaKkvk0IJ916"
      }
    },
    {
      "cell_type": "markdown",
      "source": [
        "Expliquer pourquoi la distance ne converge pas vers 0."
      ],
      "metadata": {
        "id": "jqX6HZgMdcT7"
      }
    },
    {
      "cell_type": "markdown",
      "source": [
        "Que se passe-t-il si l'on met un taux d'évolution de 0.2 ? 0.3 ?... jusqu'à 1 ? Relever à chaque fois le nombre d'itérations nécessaires et le mettre dans un tableau. Conclure."
      ],
      "metadata": {
        "id": "njmMbLbKKAKF"
      }
    },
    {
      "cell_type": "markdown",
      "source": [
        "Et en pratique, ça peut servir à quelque chose ?\n",
        "=> [Lien vers la partie 2 : Caractérisation d'une batterie](https://colab.research.google.com/drive/1JXGgboVAfwCTm1tow6axvQS3vtgH3vH3#scrollTo=xYl_UBCdxmOC)"
      ],
      "metadata": {
        "id": "uGlOEgn1OgMD"
      }
    }
  ]
}