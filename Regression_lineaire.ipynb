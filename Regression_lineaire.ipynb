{
  "nbformat": 4,
  "nbformat_minor": 0,
  "metadata": {
    "colab": {
      "provenance": [],
      "include_colab_link": true
    },
    "kernelspec": {
      "name": "python3",
      "display_name": "Python 3"
    },
    "language_info": {
      "name": "python"
    }
  },
  "cells": [
    {
      "cell_type": "markdown",
      "metadata": {
        "id": "view-in-github",
        "colab_type": "text"
      },
      "source": [
        "<a href=\"https://colab.research.google.com/github/XavierCachan/moduleIA_S4/blob/main/Regression_lineaire.ipynb\" target=\"_parent\"><img src=\"https://colab.research.google.com/assets/colab-badge.svg\" alt=\"Open In Colab\"/></a>"
      ]
    },
    {
      "cell_type": "markdown",
      "source": [
        "[Retour vers la partie 1 : Quelques notions d'optimisation](https://colab.research.google.com/drive/1ufE9nLrw3ihLsPFJQioR5Sx78IdUmZyq#scrollTo=g0-onQn2OsU-)"
      ],
      "metadata": {
        "id": "4B-_OgfjO2Ab"
      }
    },
    {
      "cell_type": "markdown",
      "source": [
        "# **TP IA Partie 2 - Caractérisation d'une batterie par optimisation - IUT de Cachan GEII2 2024**\n",
        "XM - Février 2024 - Version : 0.8\n",
        "\n",
        "-----"
      ],
      "metadata": {
        "id": "xYl_UBCdxmOC"
      }
    },
    {
      "cell_type": "markdown",
      "source": [
        "Note : Pour avancer dans ce notebook, il suffit d'exécuter (petite flèche), ou compléter puis exécuter, les différents blocs de code placés ci-dessous."
      ],
      "metadata": {
        "id": "32LUF88XLElJ"
      }
    },
    {
      "cell_type": "markdown",
      "source": [
        "Pour cette deuxième partie, nous cherchons à nous rapprocher de la notion de neurone artificiel, qui est très utilisé pour mettre en place une intelligence artificielle.  "
      ],
      "metadata": {
        "id": "Qt1QKJmpPe9O"
      }
    },
    {
      "cell_type": "markdown",
      "source": [
        "Un étudiant a trouvé une batterie, mais il ne connait pas ses caractéristiques car l'étiquette est illisible. On rappelle qu'un modèle simple d'une batterie est une source de tension E en série avec une résistance interne Ri."
      ],
      "metadata": {
        "id": "LM4wAcC3yx4Z"
      }
    },
    {
      "cell_type": "markdown",
      "source": [
        "Une batterie peut être modélisée simplement de la manière suivante :"
      ],
      "metadata": {
        "id": "2eISADu4e3vy"
      }
    },
    {
      "cell_type": "markdown",
      "source": [
        "![Modelisation d'un batterie électrique.](https://cabanisbrive.scenari-community.org/STIDD/Premiere/Sequence_07/Exp/Modeliser_une_Batterie_web/res/Model_electrique.png)"
      ],
      "metadata": {
        "id": "WyMy-ZceiN9H"
      }
    },
    {
      "cell_type": "markdown",
      "source": [
        "Comme vous le savez depuis le S2, le modèle est donc **U_bat = E - Ri * I_bat**, ce qui correspond à l'équation d'une droite y = b + w * x.\n",
        "Pour déterminer les 2 paramètres E et Ri de la batterie, l'étudiant souhaite automatiser leur recherche à partir d'un ensemble de mesures de tension U_bat réalisées pour différentes charges (donc différents niveaux de courant I_bat)."
      ],
      "metadata": {
        "id": "x2wVh_sBoE9q"
      }
    },
    {
      "cell_type": "markdown",
      "source": [
        "**1. Import des modules nécessaires pour les calculs et l'affichage**"
      ],
      "metadata": {
        "id": "UxOEtnP_zxMB"
      }
    },
    {
      "cell_type": "code",
      "execution_count": null,
      "metadata": {
        "id": "1VwTK_rnwWGs"
      },
      "outputs": [],
      "source": [
        "import numpy as np                # Module de fonctions mathématiques\n",
        "import math                       # Module de fonctions mathématiques\n",
        "import matplotlib.pyplot as plt   # Module de fonctions pour affichage"
      ]
    },
    {
      "cell_type": "markdown",
      "source": [
        "**2. Fabrication des signaux de mesure de tension U_mes**"
      ],
      "metadata": {
        "id": "SxHma1Md1gO0"
      }
    },
    {
      "cell_type": "markdown",
      "source": [
        "Dans cet exercice, on utilisera la notation _th pour la fonction \"théorique\" et _mod pour la fonction \"modèle\". Le modèle doit donc retrouver la fonction théorique."
      ],
      "metadata": {
        "id": "qNUh7wsvWQvO"
      }
    },
    {
      "cell_type": "code",
      "source": [
        "N = 40                           # Nombre de mesures\n",
        "I_bat = np.linspace(0,10,num=N)  # Fabrication d'un vecteur de N points régulièrement espacés entre 0 et 10 (0, 0.25, 0.5,...9.75)\n",
        "\n",
        "# Définition de la fonction mathématique théorique (notée _th). Le modèle que l'on va essayer de retrouver automatiquement est U_bat = E - Ri * I_bat\n",
        "Ri_th = 0.15                     # Poids théorique à trouver. Par défaut 0.15 ohms\n",
        "E_th = 12                        # Biais théorique à trouver. Par défaut 12 V\n",
        "U_th = E_th - Ri_th * I_bat      # Valeurs des tensions si la mesure est \"parfaite\""
      ],
      "metadata": {
        "id": "nZMA_gKbyP7E"
      },
      "execution_count": null,
      "outputs": []
    },
    {
      "cell_type": "markdown",
      "source": [
        "Pour rendre le cas plus réel, on ajoute du bruit de mesure"
      ],
      "metadata": {
        "id": "BdYfJg_1K1Ld"
      }
    },
    {
      "cell_type": "code",
      "source": [
        "sigma = 0.3            # \"Intensité\" de bruit. Par défaut 0.3\n",
        "bruit = sigma*(np.random.randn(len(U_th)))\n",
        "U_mes = U_th + bruit   # Signaux de mesure \"réels\" = signaux parfaits + bruit"
      ],
      "metadata": {
        "id": "Ve3LzM2a4R3a"
      },
      "execution_count": null,
      "outputs": []
    },
    {
      "cell_type": "code",
      "source": [
        "# Affichage des mesures\n",
        "fig,ax = plt.subplots(1,figsize=(8,5))\n",
        "ax.plot (I_bat, U_mes, marker=\"+\", linestyle=\"none\", linewidth=1, label=\"Tension réelle mesurée\")\n",
        "ax.plot (I_bat, U_th, linestyle=\"--\", linewidth=0.5, label=\"Droite parfaite (ce que l'on souhaite retrouver)\")\n",
        "ax.set_title(\"Mesures sur la batterie\")\n",
        "ax.set_xlabel(\"Entrées Courant I_bat\")\n",
        "ax.set_ylabel(\"Tension U_bat\")\n",
        "ax.legend()\n",
        "plt.show()"
      ],
      "metadata": {
        "id": "1VN0u6k7yJcL"
      },
      "execution_count": null,
      "outputs": []
    },
    {
      "cell_type": "markdown",
      "source": [
        "Dans la partie 1 du TP, l'inconnue était la position X. Ici, il y a deux inconnues qui sont les 2 paramètres b (biais) et w (pente) d'une droite, et on recherche la droite \"la plus proche\" en moyenne des points de mesure de tension."
      ],
      "metadata": {
        "id": "0CBcvi6j23GA"
      }
    },
    {
      "cell_type": "markdown",
      "source": [
        "**3. Recherche des paramètres de la batterie par optimisation (régression linéaire)**"
      ],
      "metadata": {
        "id": "0XByvgWP5_Le"
      }
    },
    {
      "cell_type": "markdown",
      "source": [
        "Comme dans la Partie 1 du TP, il faut définir une fonction coût. On la choisit ici comme la somme des carrés des \"distances\" (donc les différences) entre les points de mesure $U_i$ et une droite définie par l'équation du modèle y = w * $I_i$ + b (c'est l'équation U_bat = E - Ri * I_bat) ."
      ],
      "metadata": {
        "id": "8xJMlpsALV-B"
      }
    },
    {
      "cell_type": "markdown",
      "source": [
        "$cout = \\sum\\limits_{i=0}^{N-1} {\\lVert w * I_i + b - U_i\\rVert}^2$"
      ],
      "metadata": {
        "id": "3B_Q17h45q3o"
      }
    },
    {
      "cell_type": "markdown",
      "source": [
        "On espère donc trouver en fin d'optimisation la droite \"qui colle le mieux\", c'est à dire celle qui aura w = -Ri_th et b = E_th."
      ],
      "metadata": {
        "id": "nA5RrmdD8F5i"
      }
    },
    {
      "cell_type": "code",
      "source": [
        "# Définition de la fonction coût : on va chercher la droite qui présente la distance moyenne la plus petite par rapport aux points de mesure\n",
        "def cout(w,b,Iv,Uv,N): # arguments = pente & biais de la droite considérée, vecteur des entrées I_bat & des sorties U_mes, nombre de points de mesures\n",
        "  somme = 0\n",
        "  for i in range(0,N):\n",
        "    somme = somme + (w*Iv[i]+b - Uv[i])**2  # Somme des carrés des distances \"verticales\"\n",
        "  return somme/N"
      ],
      "metadata": {
        "id": "N6pb29s56od1"
      },
      "execution_count": null,
      "outputs": []
    },
    {
      "cell_type": "markdown",
      "source": [
        "On a cette fois 2 variables inconnues : la pente w de la droite et le biais b (l'origine à 0). On définit alors la fonction retournant les dérivées partielles de la fonction coût par rapport à ces 2 variables."
      ],
      "metadata": {
        "id": "g5BOz4Y9LqeC"
      }
    },
    {
      "cell_type": "code",
      "source": [
        "# Définition de la fonction dérivée (gradient) du coût : si l'on trouve les valeurs qui l'annulent, alors on sera au point de coût minimum\n",
        "def dcout(w,b,Iv,Uv,N):   # Arguments = pente & biais de la droite considérée, vecteur des entrées I_bat & des sorties U_mes, nombre de points de mesures\n",
        "  dcW = 0                 # Dérivée partielle par rapport au poids\n",
        "  dcB = 0                 # Dérivée partielle par rapport au biais\n",
        "  for i in range(0,N):\n",
        "    dcW = dcW + 2*Iv[i]*(w*Iv[i]+b - Uv[i])  # Dérivée partielle par rapport à w\n",
        "    dcB = dcB + 2*(w*Iv[i]+b - Uv[i])        # Dérivée partielle par rapport à b\n",
        "  return dcW/N, dcB/N"
      ],
      "metadata": {
        "id": "8Ibqk1XcLrGi"
      },
      "execution_count": null,
      "outputs": []
    },
    {
      "cell_type": "markdown",
      "source": [
        "On définit les paramètres de l'optimisation :"
      ],
      "metadata": {
        "id": "e9jyTteKMG0J"
      }
    },
    {
      "cell_type": "code",
      "source": [
        "taux_evolution = 0.01   # \"Vitesse\" d'avancée de l'algorithme. Par défaut 0.01\n",
        "maxIter = 10000         # Nombre max d'itérations. Par défaut 10000\n",
        "eps = 0.0001            # Valeur minimale acceptable du gradient. Par défaut 0.0001\n",
        "iter = 0                # Numéro itération en cours\n",
        "\n",
        "# Initialisation des paramètres de l'optimisation\n",
        "w_init = 0              # Pente initiale de la droite\n",
        "b_init = 0              # Biais initial\n",
        "U_init = b_init + w_init * I_bat  # Droite de départ pour l'optimisation\n",
        "\n",
        "grad = 1000             # Valeur initiale du gradient. Par défaut 1000\n",
        "\n",
        "liste_iter = []         # Listes pour affichage de la convergence de l'erreur\n",
        "liste_erreur = []\n",
        "liste_dist = []"
      ],
      "metadata": {
        "id": "q1JyV82j6Hc5"
      },
      "execution_count": null,
      "outputs": []
    },
    {
      "cell_type": "markdown",
      "source": [
        "Regardons ce qu'il se passe à la première itération :"
      ],
      "metadata": {
        "id": "RWt_K4K4ITxL"
      }
    },
    {
      "cell_type": "code",
      "source": [
        "gradW, gradB = dcout(w_init,b_init,I_bat,U_mes,N-1) # Recherche de la pente à l'itération 1\n",
        "grad = math.sqrt(gradW**2 + gradB**2)\n",
        "w = w_init - taux_evolution * gradW        # On bouge un peu w dans la direction opposée au gradient\n",
        "b = b_init - taux_evolution * gradB        # On bouge un peu b dans la direction opposée au gradient\n",
        "iter += 1\n",
        "\n",
        "# Sauvegarde pour affichage des courbes de pente et distance vs itérations\n",
        "liste_iter.append(iter)\n",
        "liste_erreur.append(grad)\n",
        "liste_dist.append(cout(w,b,I_bat,U_mes,N-1))\n",
        "\n",
        "# Analyse du modèle obtenu pour notre optimisation à l'itération 1\n",
        "U_mod = b + w * I_bat\n",
        "\n",
        "# Affichage des résultats du modèle\n",
        "fig,ax = plt.subplots(1,figsize=(8,5))\n",
        "ax.plot (I_bat, U_mes, marker=\"+\", linestyle=\"none\", linewidth=1, label=\"Tension réelle mesurée\")\n",
        "ax.plot (I_bat, U_th, linestyle=\"--\", linewidth=0.5, label=\"Droite parfaite (ce que l'on souhaite retrouver)\")\n",
        "ax.plot (I_bat, U_init, linestyle=\"-\", linewidth=1, label=\"Droite initiale\")\n",
        "ax.plot (I_bat, U_mod, linestyle=\"-\", linewidth=1, label=\"Droite à l'itération 1\")\n",
        "ax.set_title(\"Résultats de l'optimisation à l'itération 1\")\n",
        "ax.set_xlabel(\"Entrées Courant I_bat\")\n",
        "ax.set_ylabel(\"Tension U_bat\")\n",
        "ax.legend()\n",
        "plt.show()\n",
        "\n",
        "print (\"Les paramètres théoriques sont : E_th = \" + str(E_th) + \"V et Ri_th = \" + str(Ri_th) + \"ohms \")\n",
        "print (\"Les paramètres calculés à l'itération 1 sont : E_mod = \" + str(b) + \"V et Ri_mod = \" + str(-w) + \"ohms \")\n"
      ],
      "metadata": {
        "id": "bpsaFaQeIZ6P"
      },
      "execution_count": null,
      "outputs": []
    },
    {
      "cell_type": "markdown",
      "source": [
        "C'est encore loin d'être parfait... Et si l'on refaisait cela en boucle tant que le gradient (la pente) de la fonction coût n'est pas assez petit ?"
      ],
      "metadata": {
        "id": "RatjuuaPJAQG"
      }
    },
    {
      "cell_type": "code",
      "source": [
        "# Boucle d'optimisation\n",
        "while abs(grad)>eps:\n",
        "  gradW, gradB = dcout(w,b,I_bat,U_mes,N-1)\n",
        "  grad = math.sqrt(gradW**2 + gradB**2)\n",
        "  w = w - taux_evolution * gradW     # On bouge un peu w dans la direction opposée au gradient\n",
        "  b = b - taux_evolution * gradB     # On bouge un peu b dans la direction opposée au gradient\n",
        "  iter += 1\n",
        "  if iter > maxIter:\n",
        "    grad = 0\n",
        "  # Sauvegarde pour affichage des courbes de pente et distance vs itérations\n",
        "  liste_iter.append(iter)\n",
        "  liste_erreur.append(grad)\n",
        "  liste_dist.append(cout(w,b,I_bat,U_mes,N-1))\n",
        "\n",
        "# Affichage de l'évolution du gradient\n",
        "fig,ax = plt.subplots(1,figsize=(8,5))\n",
        "ax.plot (liste_iter,liste_erreur, linestyle=\"-\", linewidth=1, label=\"Gradient\")\n",
        "ax.set_xlabel(\"Itérations\")\n",
        "ax.set_ylabel(\"Valeur gradient du coût\")\n",
        "ax.set_xscale('log')\n",
        "ax.set_yscale('log')\n",
        "ax.legend()\n",
        "plt.show()\n",
        "\n",
        "# Affichage de l'évolution de la distance\n",
        "fig,ax = plt.subplots(1,figsize=(8,5))\n",
        "ax.plot (liste_iter,liste_dist, linestyle=\"-\", linewidth=1, label=\"Distance\")\n",
        "ax.set_xlabel(\"Itérations\")\n",
        "ax.set_ylabel(\"Valeur du coût\")\n",
        "ax.set_xscale('log')\n",
        "ax.set_yscale('log')\n",
        "ax.legend()\n",
        "plt.show()\n",
        "\n",
        "print (\"Le coût final obtenu est \" + str(cout(w,b,I_bat,U_mes,N-1)))"
      ],
      "metadata": {
        "id": "d-_xtXiw0oTw"
      },
      "execution_count": null,
      "outputs": []
    },
    {
      "cell_type": "markdown",
      "source": [
        "La courbe de pente du coût semble converger vers 0, c'est bon signe ! Que donne le modèle obtenu ?"
      ],
      "metadata": {
        "id": "u1-wEJX8J0h1"
      }
    },
    {
      "cell_type": "code",
      "source": [
        "# Analyse du modèle obtenu\n",
        "U_mod = b + w * I_bat\n",
        "\n",
        "# Affichage des résultats du modèle\n",
        "fig,ax = plt.subplots(1,figsize=(8,5))\n",
        "ax.plot (I_bat, U_mes, marker=\"+\", linestyle=\"none\", linewidth=1, label=\"Tension réelle mesurée\")\n",
        "ax.plot (I_bat, U_th, linestyle=\"--\", linewidth=0.5, label=\"Droite parfaite (ce que l'on souhaite retrouver)\")\n",
        "ax.plot (I_bat, U_mod, linestyle=\"-\", linewidth=1, label=\"Droite optimisée\")\n",
        "ax.set_title(\"Résultats de l'optimisation\")\n",
        "ax.set_xlabel(\"Entrées Courant I_bat\")\n",
        "ax.set_ylabel(\"Tension U_bat\")\n",
        "ax.legend()\n",
        "plt.show()\n",
        "\n",
        "print (\"Les paramètres théoriques sont : E_th = \" + str(E_th) + \"V et Ri_th = \" + str(Ri_th) + \"ohms \")\n",
        "print (\"Les paramètres calculés par le modèle en \" + str(iter) + \" itérations sont E_mod = \" + str(b) + \"V et Ri_mod = \" + str(-w) + \"ohms \")"
      ],
      "metadata": {
        "id": "KHtDbpbG_5sf"
      },
      "execution_count": null,
      "outputs": []
    },
    {
      "cell_type": "markdown",
      "source": [
        "Que peut-on en conclure ?"
      ],
      "metadata": {
        "id": "PaKkvk0IJ916"
      }
    },
    {
      "cell_type": "markdown",
      "source": [
        "Que se passe-t-il si l'on met un taux d'évolution 10 fois plus grand pour accélérer la convergence ?"
      ],
      "metadata": {
        "id": "njmMbLbKKAKF"
      }
    },
    {
      "cell_type": "markdown",
      "source": [
        "Ce système linéaire avec un poids et un biais constitue la base d'un neurone artificiel.  \n",
        "Hum... Est-ce que cela signifie que l'on peut traiter le même problème avec un neurone artificiel ? => [Lien vers la partie 3 : Caractérisation d'une batterie par neurone un artificiel](https://colab.research.google.com/drive/1O0b8AnUaOWrjGoY7RDKRmHjWr2QeJZ_Z#scrollTo=xYl_UBCdxmOC)"
      ],
      "metadata": {
        "id": "u4MqdklcoeOY"
      }
    }
  ]
}